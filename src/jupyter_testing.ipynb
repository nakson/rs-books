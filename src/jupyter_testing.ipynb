{
 "cells": [
  {
   "cell_type": "markdown",
   "metadata": {},
   "source": [
    "### Loading Data "
   ]
  },
  {
   "cell_type": "code",
   "execution_count": 1,
   "metadata": {},
   "outputs": [],
   "source": [
    "# Loading Data\n",
    "from surprise import Dataset\n",
    "from surprise import Reader\n",
    "import pandas as pd\n",
    "\n",
    "# Loading data ...\n",
    "file_path_users = './data/BX-Users.csv'\n",
    "file_path_ratings = './data/BX-Book-Ratings.csv'\n",
    "file_path_books = './data/BX-Books.csv'\n",
    "\n",
    "# Loading .csv data into pandas df\n",
    "book_df = pd.read_csv(file_path_books, names = ['iid', 'title', 'author', 'year', 'publisher','image'], sep=',',skiprows=1, dtype={'year':int})\n",
    "rating_df = pd.read_csv(file_path_ratings, names = ['uid', 'iid','rating'], sep=',',skiprows=1)\n",
    "user_df = pd.read_csv(file_path_users, names = ['uid', 'age'], sep=',',skiprows=1)\n",
    "user_df = user_df.dropna()\n",
    "\n",
    "# df -> surprise Dataset\n",
    "data_rating = Dataset.load_from_df(rating_df[[\"uid\", \"iid\", \"rating\"]], Reader(rating_scale=(1, 5)))"
   ]
  },
  {
   "cell_type": "markdown",
   "metadata": {},
   "source": [
    "### Books "
   ]
  },
  {
   "cell_type": "code",
   "execution_count": 2,
   "metadata": {
    "scrolled": false
   },
   "outputs": [
    {
     "name": "stdout",
     "output_type": "stream",
     "text": [
      "(266737, 6)\n"
     ]
    },
    {
     "data": {
      "text/html": [
       "<div>\n",
       "<style scoped>\n",
       "    .dataframe tbody tr th:only-of-type {\n",
       "        vertical-align: middle;\n",
       "    }\n",
       "\n",
       "    .dataframe tbody tr th {\n",
       "        vertical-align: top;\n",
       "    }\n",
       "\n",
       "    .dataframe thead th {\n",
       "        text-align: right;\n",
       "    }\n",
       "</style>\n",
       "<table border=\"1\" class=\"dataframe\">\n",
       "  <thead>\n",
       "    <tr style=\"text-align: right;\">\n",
       "      <th></th>\n",
       "      <th>iid</th>\n",
       "      <th>title</th>\n",
       "      <th>author</th>\n",
       "      <th>year</th>\n",
       "      <th>publisher</th>\n",
       "      <th>image</th>\n",
       "    </tr>\n",
       "  </thead>\n",
       "  <tbody>\n",
       "    <tr>\n",
       "      <th>0</th>\n",
       "      <td>964442011X</td>\n",
       "      <td>Tasht-i khun</td>\n",
       "      <td>IsmaÂ°il Fasih</td>\n",
       "      <td>1376</td>\n",
       "      <td>Nashr-i Alburz</td>\n",
       "      <td>http://images.amazon.com/images/P/964442011X.0...</td>\n",
       "    </tr>\n",
       "    <tr>\n",
       "      <th>1</th>\n",
       "      <td>9643112136</td>\n",
       "      <td>Dalan-i bihisht (Dastan-i Irani)</td>\n",
       "      <td>Nazi Safavi</td>\n",
       "      <td>1378</td>\n",
       "      <td>Intisharat-i Quqnus</td>\n",
       "      <td>http://images.amazon.com/images/P/9643112136.0...</td>\n",
       "    </tr>\n",
       "    <tr>\n",
       "      <th>2</th>\n",
       "      <td>781228956</td>\n",
       "      <td>Complete Works 10 Volumes [2,6,7,8,9] (Notable...</td>\n",
       "      <td>Benjamin Franklin</td>\n",
       "      <td>1806</td>\n",
       "      <td>Reprint Services Corp</td>\n",
       "      <td>http://images.amazon.com/images/P/0781228956.0...</td>\n",
       "    </tr>\n",
       "  </tbody>\n",
       "</table>\n",
       "</div>"
      ],
      "text/plain": [
       "          iid                                              title  \\\n",
       "0  964442011X                                       Tasht-i khun   \n",
       "1  9643112136                   Dalan-i bihisht (Dastan-i Irani)   \n",
       "2   781228956  Complete Works 10 Volumes [2,6,7,8,9] (Notable...   \n",
       "\n",
       "              author  year              publisher  \\\n",
       "0     IsmaÂ°il Fasih  1376         Nashr-i Alburz   \n",
       "1        Nazi Safavi  1378    Intisharat-i Quqnus   \n",
       "2  Benjamin Franklin  1806  Reprint Services Corp   \n",
       "\n",
       "                                               image  \n",
       "0  http://images.amazon.com/images/P/964442011X.0...  \n",
       "1  http://images.amazon.com/images/P/9643112136.0...  \n",
       "2  http://images.amazon.com/images/P/0781228956.0...  "
      ]
     },
     "execution_count": 2,
     "metadata": {},
     "output_type": "execute_result"
    }
   ],
   "source": [
    "print(book_df.shape)\n",
    "book_df.head(3)"
   ]
  },
  {
   "cell_type": "markdown",
   "metadata": {},
   "source": [
    "### Ratings"
   ]
  },
  {
   "cell_type": "code",
   "execution_count": 3,
   "metadata": {
    "scrolled": false
   },
   "outputs": [
    {
     "name": "stdout",
     "output_type": "stream",
     "text": [
      "(999999, 3)\n"
     ]
    },
    {
     "data": {
      "text/html": [
       "<div>\n",
       "<style scoped>\n",
       "    .dataframe tbody tr th:only-of-type {\n",
       "        vertical-align: middle;\n",
       "    }\n",
       "\n",
       "    .dataframe tbody tr th {\n",
       "        vertical-align: top;\n",
       "    }\n",
       "\n",
       "    .dataframe thead th {\n",
       "        text-align: right;\n",
       "    }\n",
       "</style>\n",
       "<table border=\"1\" class=\"dataframe\">\n",
       "  <thead>\n",
       "    <tr style=\"text-align: right;\">\n",
       "      <th></th>\n",
       "      <th>uid</th>\n",
       "      <th>iid</th>\n",
       "      <th>rating</th>\n",
       "    </tr>\n",
       "  </thead>\n",
       "  <tbody>\n",
       "    <tr>\n",
       "      <th>0</th>\n",
       "      <td>276725</td>\n",
       "      <td>034545104X</td>\n",
       "      <td>0</td>\n",
       "    </tr>\n",
       "    <tr>\n",
       "      <th>1</th>\n",
       "      <td>276726</td>\n",
       "      <td>155061224</td>\n",
       "      <td>5</td>\n",
       "    </tr>\n",
       "    <tr>\n",
       "      <th>2</th>\n",
       "      <td>276727</td>\n",
       "      <td>446520802</td>\n",
       "      <td>0</td>\n",
       "    </tr>\n",
       "  </tbody>\n",
       "</table>\n",
       "</div>"
      ],
      "text/plain": [
       "      uid         iid  rating\n",
       "0  276725  034545104X       0\n",
       "1  276726   155061224       5\n",
       "2  276727   446520802       0"
      ]
     },
     "execution_count": 3,
     "metadata": {},
     "output_type": "execute_result"
    }
   ],
   "source": [
    "print(rating_df.shape)\n",
    "rating_df.head(3)"
   ]
  },
  {
   "cell_type": "markdown",
   "metadata": {},
   "source": [
    "### Users"
   ]
  },
  {
   "cell_type": "code",
   "execution_count": 4,
   "metadata": {
    "scrolled": true
   },
   "outputs": [
    {
     "name": "stdout",
     "output_type": "stream",
     "text": [
      "(168096, 2)\n"
     ]
    },
    {
     "data": {
      "text/html": [
       "<div>\n",
       "<style scoped>\n",
       "    .dataframe tbody tr th:only-of-type {\n",
       "        vertical-align: middle;\n",
       "    }\n",
       "\n",
       "    .dataframe tbody tr th {\n",
       "        vertical-align: top;\n",
       "    }\n",
       "\n",
       "    .dataframe thead th {\n",
       "        text-align: right;\n",
       "    }\n",
       "</style>\n",
       "<table border=\"1\" class=\"dataframe\">\n",
       "  <thead>\n",
       "    <tr style=\"text-align: right;\">\n",
       "      <th></th>\n",
       "      <th>uid</th>\n",
       "      <th>age</th>\n",
       "    </tr>\n",
       "  </thead>\n",
       "  <tbody>\n",
       "    <tr>\n",
       "      <th>1</th>\n",
       "      <td>2</td>\n",
       "      <td>18.0</td>\n",
       "    </tr>\n",
       "    <tr>\n",
       "      <th>3</th>\n",
       "      <td>4</td>\n",
       "      <td>17.0</td>\n",
       "    </tr>\n",
       "    <tr>\n",
       "      <th>5</th>\n",
       "      <td>6</td>\n",
       "      <td>61.0</td>\n",
       "    </tr>\n",
       "  </tbody>\n",
       "</table>\n",
       "</div>"
      ],
      "text/plain": [
       "   uid   age\n",
       "1    2  18.0\n",
       "3    4  17.0\n",
       "5    6  61.0"
      ]
     },
     "execution_count": 4,
     "metadata": {},
     "output_type": "execute_result"
    }
   ],
   "source": [
    "print(user_df.shape)\n",
    "user_df.head(3)"
   ]
  },
  {
   "cell_type": "markdown",
   "metadata": {},
   "source": [
    "### Filtering data from selected age"
   ]
  },
  {
   "cell_type": "code",
   "execution_count": 5,
   "metadata": {},
   "outputs": [
    {
     "data": {
      "text/plain": [
       "(67950, 6)"
      ]
     },
     "execution_count": 5,
     "metadata": {},
     "output_type": "execute_result"
    }
   ],
   "source": [
    "def filter_data_by_age(age, u_df, r_df, b_df):\n",
    "    if age == '0-18':\n",
    "        get_uid = u_df.loc[(u_df['age'] < 18)]['uid']\n",
    "    elif age == '18-30':\n",
    "        get_uid = u_df.loc[(u_df['age'] >= 18) & (u_df['age'] < 30)]['uid']\n",
    "    elif age == '30-40':\n",
    "        get_uid = u_df.loc[(u_df['age'] >= 30) & (u_df['age'] < 40)]['uid']\n",
    "    elif age == '40-50':\n",
    "        get_uid = u_df.loc[(u_df['age'] >= 40) & (u_df['age'] < 50)]['uid']\n",
    "    else:\n",
    "        get_uid = u_df.loc[u_df['age'] >= 50]['uid']\n",
    "    \n",
    "    get_iid = r_df.loc[r_df['uid'].isin(get_uid)]['iid']\n",
    "    get_books = b_df.loc[b_df['iid'].isin(get_iid)]\n",
    "        \n",
    "    return get_books.drop_duplicates(), get_iid, get_uid\n",
    "\n",
    "# data from pop-up windown 1 - name and age\n",
    "form = {\n",
    "    'age' : '0-1',\n",
    "    'name' : 'aa'\n",
    "}\n",
    "\n",
    "selected_books, selected_iid, selected_uid = filter_data_by_age(form['age'], user_df, rating_df, book_df)\n",
    "#selected_books.sample(n=100)\n",
    "selected_books.shape"
   ]
  },
  {
   "cell_type": "markdown",
   "metadata": {},
   "source": [
    "### Algorithem 1"
   ]
  },
  {
   "cell_type": "code",
   "execution_count": 6,
   "metadata": {},
   "outputs": [
    {
     "name": "stdout",
     "output_type": "stream",
     "text": [
      "(14000, 3)\n"
     ]
    }
   ],
   "source": [
    "# filter rating table by selcted age \n",
    "selected_data = rating_df.loc[rating_df['uid'].isin(selected_uid)].sample(n=14000)\n",
    "print(selected_data.shape)\n",
    "# df -> surprise Dataset\n",
    "data = Dataset.load_from_df(selected_data[[\"uid\", \"iid\", \"rating\"]], Reader(rating_scale=(1, 5)))"
   ]
  },
  {
   "cell_type": "code",
   "execution_count": 7,
   "metadata": {
    "scrolled": true
   },
   "outputs": [
    {
     "name": "stdout",
     "output_type": "stream",
     "text": [
      "Computing the cosine similarity matrix...\n",
      "Done computing similarity matrix.\n"
     ]
    },
    {
     "name": "stderr",
     "output_type": "stream",
     "text": [
      "/opt/homebrew/lib/python3.9/site-packages/surprise/prediction_algorithms/algo_base.py:249: RuntimeWarning: invalid value encountered in double_scalars\n",
      "  sim = construction_func[name](*args)\n"
     ]
    },
    {
     "data": {
      "text/plain": [
       "<surprise.prediction_algorithms.knns.KNNBasic at 0x13a761b80>"
      ]
     },
     "execution_count": 7,
     "metadata": {},
     "output_type": "execute_result"
    }
   ],
   "source": [
    "from surprise import KNNBasic\n",
    "\n",
    "train_set = data.build_full_trainset()\n",
    "sim_options = {'name': 'cosine',\n",
    "               'user_based': False,  # compute  similarities between users\n",
    "               'min_support': 1  # minimum number of common items for two users\n",
    "               }\n",
    "algo = KNNBasic(k=20, sim_options=sim_options)\n",
    "algo.fit(train_set)"
   ]
  },
  {
   "cell_type": "markdown",
   "metadata": {},
   "source": [
    "## Testing"
   ]
  },
  {
   "cell_type": "code",
   "execution_count": 8,
   "metadata": {},
   "outputs": [
    {
     "ename": "KeyboardInterrupt",
     "evalue": "",
     "output_type": "error",
     "traceback": [
      "\u001b[0;31m---------------------------------------------------------------------------\u001b[0m",
      "\u001b[0;31mKeyboardInterrupt\u001b[0m                         Traceback (most recent call last)",
      "Input \u001b[0;32mIn [8]\u001b[0m, in \u001b[0;36m<module>\u001b[0;34m\u001b[0m\n\u001b[1;32m      7\u001b[0m \u001b[38;5;28;01mimport\u001b[39;00m \u001b[38;5;21;01mos\u001b[39;00m\n\u001b[1;32m      8\u001b[0m \u001b[38;5;28;01mimport\u001b[39;00m \u001b[38;5;21;01mcsv\u001b[39;00m\n\u001b[0;32m----> 9\u001b[0m \u001b[38;5;28;01mfrom\u001b[39;00m \u001b[38;5;21;01msklearn\u001b[39;00m\u001b[38;5;21;01m.\u001b[39;00m\u001b[38;5;21;01mcluster\u001b[39;00m \u001b[38;5;28;01mimport\u001b[39;00m estimate_bandwidth\n\u001b[1;32m     10\u001b[0m \u001b[38;5;28;01mfrom\u001b[39;00m \u001b[38;5;21;01msurprise\u001b[39;00m\u001b[38;5;21;01m.\u001b[39;00m\u001b[38;5;21;01mmodel_selection\u001b[39;00m \u001b[38;5;28;01mimport\u001b[39;00m train_test_split\n\u001b[1;32m     11\u001b[0m \u001b[38;5;28;01mfrom\u001b[39;00m \u001b[38;5;21;01mutils\u001b[39;00m \u001b[38;5;28;01mimport\u001b[39;00m map_genre\n",
      "File \u001b[0;32m/opt/homebrew/lib/python3.9/site-packages/sklearn/cluster/__init__.py:6\u001b[0m, in \u001b[0;36m<module>\u001b[0;34m\u001b[0m\n\u001b[1;32m      1\u001b[0m \u001b[38;5;124;03m\"\"\"\u001b[39;00m\n\u001b[1;32m      2\u001b[0m \u001b[38;5;124;03mThe :mod:`sklearn.cluster` module gathers popular unsupervised clustering\u001b[39;00m\n\u001b[1;32m      3\u001b[0m \u001b[38;5;124;03malgorithms.\u001b[39;00m\n\u001b[1;32m      4\u001b[0m \u001b[38;5;124;03m\"\"\"\u001b[39;00m\n\u001b[0;32m----> 6\u001b[0m \u001b[38;5;28;01mfrom\u001b[39;00m \u001b[38;5;21;01m.\u001b[39;00m\u001b[38;5;21;01m_spectral\u001b[39;00m \u001b[38;5;28;01mimport\u001b[39;00m spectral_clustering, SpectralClustering\n\u001b[1;32m      7\u001b[0m \u001b[38;5;28;01mfrom\u001b[39;00m \u001b[38;5;21;01m.\u001b[39;00m\u001b[38;5;21;01m_mean_shift\u001b[39;00m \u001b[38;5;28;01mimport\u001b[39;00m mean_shift, MeanShift, estimate_bandwidth, get_bin_seeds\n\u001b[1;32m      8\u001b[0m \u001b[38;5;28;01mfrom\u001b[39;00m \u001b[38;5;21;01m.\u001b[39;00m\u001b[38;5;21;01m_affinity_propagation\u001b[39;00m \u001b[38;5;28;01mimport\u001b[39;00m affinity_propagation, AffinityPropagation\n",
      "File \u001b[0;32m/opt/homebrew/lib/python3.9/site-packages/sklearn/cluster/_spectral.py:18\u001b[0m, in \u001b[0;36m<module>\u001b[0;34m\u001b[0m\n\u001b[1;32m     16\u001b[0m \u001b[38;5;28;01mfrom\u001b[39;00m \u001b[38;5;21;01m.\u001b[39;00m\u001b[38;5;21;01m.\u001b[39;00m\u001b[38;5;21;01mneighbors\u001b[39;00m \u001b[38;5;28;01mimport\u001b[39;00m kneighbors_graph, NearestNeighbors\n\u001b[1;32m     17\u001b[0m \u001b[38;5;28;01mfrom\u001b[39;00m \u001b[38;5;21;01m.\u001b[39;00m\u001b[38;5;21;01m.\u001b[39;00m\u001b[38;5;21;01mmanifold\u001b[39;00m \u001b[38;5;28;01mimport\u001b[39;00m spectral_embedding\n\u001b[0;32m---> 18\u001b[0m \u001b[38;5;28;01mfrom\u001b[39;00m \u001b[38;5;21;01m.\u001b[39;00m\u001b[38;5;21;01m_kmeans\u001b[39;00m \u001b[38;5;28;01mimport\u001b[39;00m k_means\n\u001b[1;32m     21\u001b[0m \u001b[38;5;28;01mdef\u001b[39;00m \u001b[38;5;21mdiscretize\u001b[39m(\n\u001b[1;32m     22\u001b[0m     vectors, \u001b[38;5;241m*\u001b[39m, copy\u001b[38;5;241m=\u001b[39m\u001b[38;5;28;01mTrue\u001b[39;00m, max_svd_restarts\u001b[38;5;241m=\u001b[39m\u001b[38;5;241m30\u001b[39m, n_iter_max\u001b[38;5;241m=\u001b[39m\u001b[38;5;241m20\u001b[39m, random_state\u001b[38;5;241m=\u001b[39m\u001b[38;5;28;01mNone\u001b[39;00m\n\u001b[1;32m     23\u001b[0m ):\n\u001b[1;32m     24\u001b[0m     \u001b[38;5;124;03m\"\"\"Search for a partition matrix which is closest to the eigenvector embedding.\u001b[39;00m\n\u001b[1;32m     25\u001b[0m \n\u001b[1;32m     26\u001b[0m \u001b[38;5;124;03m    This implementation was proposed in [1]_.\u001b[39;00m\n\u001b[0;32m   (...)\u001b[0m\n\u001b[1;32m     73\u001b[0m \n\u001b[1;32m     74\u001b[0m \u001b[38;5;124;03m    \"\"\"\u001b[39;00m\n",
      "File \u001b[0;32m/opt/homebrew/lib/python3.9/site-packages/sklearn/cluster/_kmeans.py:42\u001b[0m, in \u001b[0;36m<module>\u001b[0;34m\u001b[0m\n\u001b[1;32m     40\u001b[0m \u001b[38;5;28;01mfrom\u001b[39;00m \u001b[38;5;21;01m.\u001b[39;00m\u001b[38;5;21;01m_k_means_lloyd\u001b[39;00m \u001b[38;5;28;01mimport\u001b[39;00m lloyd_iter_chunked_dense\n\u001b[1;32m     41\u001b[0m \u001b[38;5;28;01mfrom\u001b[39;00m \u001b[38;5;21;01m.\u001b[39;00m\u001b[38;5;21;01m_k_means_lloyd\u001b[39;00m \u001b[38;5;28;01mimport\u001b[39;00m lloyd_iter_chunked_sparse\n\u001b[0;32m---> 42\u001b[0m \u001b[38;5;28;01mfrom\u001b[39;00m \u001b[38;5;21;01m.\u001b[39;00m\u001b[38;5;21;01m_k_means_elkan\u001b[39;00m \u001b[38;5;28;01mimport\u001b[39;00m init_bounds_dense\n\u001b[1;32m     43\u001b[0m \u001b[38;5;28;01mfrom\u001b[39;00m \u001b[38;5;21;01m.\u001b[39;00m\u001b[38;5;21;01m_k_means_elkan\u001b[39;00m \u001b[38;5;28;01mimport\u001b[39;00m init_bounds_sparse\n\u001b[1;32m     44\u001b[0m \u001b[38;5;28;01mfrom\u001b[39;00m \u001b[38;5;21;01m.\u001b[39;00m\u001b[38;5;21;01m_k_means_elkan\u001b[39;00m \u001b[38;5;28;01mimport\u001b[39;00m elkan_iter_chunked_dense\n",
      "File \u001b[0;32m<frozen importlib._bootstrap>:398\u001b[0m, in \u001b[0;36mparent\u001b[0;34m(self)\u001b[0m\n",
      "\u001b[0;31mKeyboardInterrupt\u001b[0m: "
     ]
    }
   ],
   "source": [
    "from typing import Optional, List\n",
    "from pydantic import BaseModel\n",
    "from fastapi import FastAPI\n",
    "from fastapi.middleware.cors import CORSMiddleware\n",
    "import pandas as pd\n",
    "import numpy as np\n",
    "import os\n",
    "import csv\n",
    "from sklearn.cluster import estimate_bandwidth\n",
    "from surprise.model_selection import train_test_split\n",
    "from utils import map_genre\n",
    "import json\n",
    "from surprise import dump\n",
    "from surprise import KNNBasic\n",
    "from surprise import Dataset\n",
    "from surprise import Reader\n",
    "import pandas as pd"
   ]
  },
  {
   "cell_type": "code",
   "execution_count": null,
   "metadata": {},
   "outputs": [],
   "source": [
    "# Loading Data\n",
    "from surprise import Dataset\n",
    "from surprise import Reader\n",
    "import pandas as pd\n",
    "\n",
    "# Loading data file path ...\n",
    "file_path_users = './data/BX-Users.csv'\n",
    "file_path_ratings = './data/BX-Book-Ratings.csv'\n",
    "file_path_books = './data/BX-Books.csv'\n",
    "\n",
    "# Loading .csv data into pandas df\n",
    "book_df = pd.read_csv(file_path_books, names = ['iid', 'title', 'author', 'year', 'publisher','image'], sep=',',skiprows=1, dtype={'year':int})\n",
    "rating_df = pd.read_csv(file_path_ratings, names = ['uid', 'iid','rating'], sep=',',skiprows=1)\n",
    "user_df = pd.read_csv(file_path_users, names = ['uid', 'age'], sep=',',skiprows=1)\n",
    "user_df = user_df.dropna()\n",
    "\n",
    "# df -> surprise Dataset\n",
    "data_rating = Dataset.load_from_df(rating_df[[\"uid\", \"iid\", \"rating\"]].sample(n=10), Reader(rating_scale=(1, 5)))\n",
    "\n",
    "\n",
    "sim_options = {'name': 'cosine',\n",
    "                    'user_based': False,  # compute  similarities between users\n",
    "                    'min_support': 1  # minimum number of common items for two users\n",
    "               }\n",
    "algo = KNNBasic(k=20, sim_options=sim_options)"
   ]
  },
  {
   "cell_type": "code",
   "execution_count": null,
   "metadata": {},
   "outputs": [],
   "source": [
    "def books_in_age(form: dict):\n",
    "    print(\"----User selected----\")\n",
    "    print(form['age'])\n",
    "    print(form['name'])\n",
    "    selected_books, selected_iid, selected_uid = filter_data_by_age(form['age'], user_df, rating_df, book_df)\n",
    "    # update data for training\n",
    "    selected_data = rating_df.loc[rating_df['uid'].isin(selected_uid)].sample(n=8000)\n",
    "    data_rating = Dataset.load_from_df(selected_data[[\"uid\", \"iid\", \"rating\"]], Reader(rating_scale=(1, 10)))\n",
    "    # fit algo 1\n",
    "    trainset = data_rating.build_full_trainset()\n",
    "    algo.fit(trainset)\n",
    "    # return books in selected age \n",
    "    books_in_age = selected_books.sample(n=30)\n",
    "    books_in_age.loc[:, 'score'] = None\n",
    "    return books_in_age.to_json(orient='index')\n",
    "\n",
    "# filtering books data from selected age range\n",
    "def filter_data_by_age(age, u_df, r_df, b_df):\n",
    "    if age == '0-18':\n",
    "        get_uid = u_df.loc[(u_df['age'] < 18)]['uid']\n",
    "    elif age == '18-30':\n",
    "        get_uid = u_df.loc[(u_df['age'] >= 18) & (u_df['age'] < 30)]['uid']\n",
    "    elif age == '30-40':\n",
    "        get_uid = u_df.loc[(u_df['age'] >= 30) & (u_df['age'] < 40)]['uid']\n",
    "    elif age == '40-50':\n",
    "        get_uid = u_df.loc[(u_df['age'] >= 40) & (u_df['age'] < 50)]['uid']\n",
    "    else:\n",
    "        get_uid = u_df.loc[u_df['age'] >= 50]['uid']\n",
    "    \n",
    "    get_iid = r_df.loc[r_df['uid'].isin(get_uid)]['iid']\n",
    "    get_books = b_df.loc[(b_df['iid'].isin(get_iid)) & (b_df['year']>1995)]\n",
    "        \n",
    "    return get_books.drop_duplicates(), get_iid, get_uid\n",
    "\n",
    "\n",
    "def like_recommend(item_id):\n",
    "    print(\"-=========================item_id:\",item_id)\n",
    "    # get_similar\n",
    "    res = get_similar_items(str(item_id), n=5)\n",
    "    res = [int(i) for i in res]\n",
    "    print(res)\n",
    "    rec_books = book_df.loc[book_df['iid'].isin(res)]\n",
    "    print(rec_books)\n",
    "    # rec_books.loc[:, 'like'] = None\n",
    "    #results = rec_books.loc[:, ['iid', 'title', 'year', 'image']]\n",
    "    return json.loads(rec_books.to_json(orient=\"records\"))\n",
    "\n",
    "# Method 1 - like\n",
    "def get_similar_items(iid, n=5):\n",
    "    inner_id = algo.trainset.to_inner_iid(str(iid))\n",
    "    print(inner_id)\n",
    "    neighbors = algo.get_neighbors(inner_id, k=n)\n",
    "    neighbors_iid = [algo.trainset.to_raw_iid(x) for x in neighbors]\n",
    "    print(neighbors_iid)\n",
    "    return neighbors_iid\n"
   ]
  },
  {
   "cell_type": "code",
   "execution_count": null,
   "metadata": {},
   "outputs": [],
   "source": [
    "# data from pop-up windown 1 - name and age\n",
    "form = {\n",
    "    'age' : '0-1',\n",
    "    'name' : 'aa'\n",
    "}\n",
    "\n",
    "books_in_age(form)"
   ]
  },
  {
   "cell_type": "code",
   "execution_count": null,
   "metadata": {
    "scrolled": true
   },
   "outputs": [],
   "source": [
    "like_recommend(\"1567311199\")"
   ]
  },
  {
   "cell_type": "code",
   "execution_count": null,
   "metadata": {},
   "outputs": [],
   "source": []
  },
  {
   "cell_type": "code",
   "execution_count": null,
   "metadata": {},
   "outputs": [],
   "source": []
  },
  {
   "cell_type": "code",
   "execution_count": null,
   "metadata": {},
   "outputs": [],
   "source": []
  },
  {
   "cell_type": "code",
   "execution_count": null,
   "metadata": {},
   "outputs": [],
   "source": []
  },
  {
   "cell_type": "markdown",
   "metadata": {},
   "source": [
    "### Algorithem 2"
   ]
  },
  {
   "cell_type": "code",
   "execution_count": null,
   "metadata": {},
   "outputs": [],
   "source": [
    "\n",
    "\n"
   ]
  },
  {
   "cell_type": "code",
   "execution_count": null,
   "metadata": {},
   "outputs": [],
   "source": []
  },
  {
   "cell_type": "code",
   "execution_count": null,
   "metadata": {},
   "outputs": [],
   "source": []
  },
  {
   "cell_type": "code",
   "execution_count": null,
   "metadata": {},
   "outputs": [],
   "source": []
  },
  {
   "cell_type": "code",
   "execution_count": null,
   "metadata": {},
   "outputs": [],
   "source": []
  },
  {
   "cell_type": "code",
   "execution_count": null,
   "metadata": {},
   "outputs": [],
   "source": []
  },
  {
   "cell_type": "code",
   "execution_count": null,
   "metadata": {},
   "outputs": [],
   "source": []
  },
  {
   "cell_type": "markdown",
   "metadata": {},
   "source": [
    "### Evaluation"
   ]
  },
  {
   "cell_type": "code",
   "execution_count": 9,
   "metadata": {},
   "outputs": [],
   "source": [
    "from scipy.stats import ttest_rel\n",
    "from scipy.stats import ttest_ind\n",
    "\n",
    "methodA_round_1 = [1.0003585533955126, 1.02521875, 1.0832961893171518, 1.2084630993538859, 1.0262983316877212, 0.9910370638447699, 1.1140163892982005, 0.9891552266959924, 1.33346875, 1.1842550664869456]\n",
    "methodA_round_2 = [1.0995360610374764, 0.95965625, 1.1669204534699709, 1.2059589711259096, 1.0197927198241072,  1.1149396862190573, 1.2380823160392296, 1.1170941394556906, 1.31928125, 1.2163998510589558]\n",
    "methodB_round_1 = [0.8134668985654723, 0.9309493362512627, 0.9207381501496753, 0.6666666666666666, 0.7698003589195009, 0.9940564109486686, 0.5443310539518174, 0.7888106377466154, 0.7314228762270925, 1.5869840952317444]\n",
    "methodB_round_2 = [0.9562785167639519, 0.9906974722292783, 1.220902186396364, 0.9960173936495105, 0.7314228762270925, 0.69602043392737, 0.7200822998230957, 0.5443310539518174, 0.49690399499995325, 0.8606629658238704]\n",
    "\n",
    "methodA =  methodA_round_1 + methodA_round_2\n",
    "methodB =  methodB_round_1 + methodB_round_2"
   ]
  },
  {
   "cell_type": "code",
   "execution_count": 10,
   "metadata": {},
   "outputs": [
    {
     "data": {
      "text/plain": [
       "Ttest_relResult(statistic=-2.2627596316345344, pvalue=0.04995078793102759)"
      ]
     },
     "execution_count": 10,
     "metadata": {},
     "output_type": "execute_result"
    }
   ],
   "source": [
    "ttest_rel(methodA_round_1, methodA_round_2)"
   ]
  },
  {
   "cell_type": "code",
   "execution_count": 11,
   "metadata": {},
   "outputs": [
    {
     "data": {
      "text/plain": [
       "Ttest_relResult(statistic=0.5176203288269218, pvalue=0.6172046202696231)"
      ]
     },
     "execution_count": 11,
     "metadata": {},
     "output_type": "execute_result"
    }
   ],
   "source": [
    "ttest_rel(methodB_round_1, methodB_round_2)"
   ]
  },
  {
   "cell_type": "code",
   "execution_count": 12,
   "metadata": {},
   "outputs": [
    {
     "data": {
      "text/plain": [
       "Ttest_indResult(statistic=0.0, pvalue=1.0)"
      ]
     },
     "execution_count": 12,
     "metadata": {},
     "output_type": "execute_result"
    }
   ],
   "source": [
    "ttest_ind(methodA, methodA)"
   ]
  },
  {
   "cell_type": "code",
   "execution_count": 13,
   "metadata": {},
   "outputs": [
    {
     "name": "stdout",
     "output_type": "stream",
     "text": [
      "Average RMSE of Method A 1.1206614559155288\n",
      "Average RMSE of Method B 0.848027283922541\n"
     ]
    }
   ],
   "source": [
    "from statistics import mean\n",
    "\n",
    "print(\"Average RMSE of Method A\", mean(methodA))\n",
    "print(\"Average RMSE of Method B\", mean(methodB))"
   ]
  }
 ],
 "metadata": {
  "colab": {
   "authorship_tag": "ABX9TyMc68iZ/ZiBAjKYu/nyr1cD",
   "collapsed_sections": [],
   "include_colab_link": true,
   "name": "lab1 collaborative filtering methods.ipynb",
   "provenance": []
  },
  "kernelspec": {
   "display_name": "Python 3 (ipykernel)",
   "language": "python",
   "name": "python3"
  },
  "language_info": {
   "codemirror_mode": {
    "name": "ipython",
    "version": 3
   },
   "file_extension": ".py",
   "mimetype": "text/x-python",
   "name": "python",
   "nbconvert_exporter": "python",
   "pygments_lexer": "ipython3",
   "version": "3.9.10"
  }
 },
 "nbformat": 4,
 "nbformat_minor": 1
}
